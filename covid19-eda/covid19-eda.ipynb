{
 "metadata": {
  "language_info": {
   "codemirror_mode": {
    "name": "ipython",
    "version": 3
   },
   "file_extension": ".py",
   "mimetype": "text/x-python",
   "name": "python",
   "nbconvert_exporter": "python",
   "pygments_lexer": "ipython3",
   "version": "3.7.5-final"
  },
  "orig_nbformat": 2,
  "kernelspec": {
   "name": "Python 3.7.5 64-bit",
   "display_name": "Python 3.7.5 64-bit",
   "metadata": {
    "interpreter": {
     "hash": "aee8b7b246df8f9039afb4144a1f6fd8d2ca17a180786b69acc140d282b71a49"
    }
   }
  }
 },
 "nbformat": 4,
 "nbformat_minor": 2,
 "cells": [
  {
   "cell_type": "code",
   "execution_count": 2,
   "metadata": {},
   "outputs": [],
   "source": [
    "import json\n",
    "import numpy as np\n",
    "import pandas as pd\n",
    "import requests\n",
    "import matplotlib.pyplot as plt\n",
    "import datetime"
   ]
  },
  {
   "cell_type": "code",
   "execution_count": 3,
   "metadata": {},
   "outputs": [],
   "source": [
    "def get_json(api_url):\n",
    "\tresponse = requests.get(api_url)\n",
    "\tif response.status_code == 200:\n",
    "\t\treturn json.loads(response.content.decode('utf-8'))\n",
    "\telse:\n",
    "\t\treturn None\n",
    "    "
   ]
  },
  {
   "cell_type": "code",
   "execution_count": 4,
   "metadata": {},
   "outputs": [],
   "source": [
    "record_date = '2020-08-17'\n",
    "covid_url = 'https://covid19-api.org/api/status?date='+record_date\n",
    "df_covid_worldwide = pd.io.json.json_normalize(get_json(covid_url))"
   ]
  },
  {
   "cell_type": "code",
   "execution_count": 5,
   "metadata": {},
   "outputs": [
    {
     "output_type": "execute_result",
     "data": {
      "text/plain": [
       "  country          last_update    cases  deaths  recovered\n",
       "0      US  2020-08-16T23:27:50  5401167  170019    1833067\n",
       "1      BR  2020-08-16T23:27:50  3340197  107852    2655017\n",
       "2      IN  2020-08-16T23:27:50  2589682   49980    1862258\n",
       "3      RU  2020-08-16T23:27:50   920719   15653     731444\n",
       "4      ZA  2020-08-16T23:27:50   587345   11839     472377"
      ],
      "text/html": "<div>\n<style scoped>\n    .dataframe tbody tr th:only-of-type {\n        vertical-align: middle;\n    }\n\n    .dataframe tbody tr th {\n        vertical-align: top;\n    }\n\n    .dataframe thead th {\n        text-align: right;\n    }\n</style>\n<table border=\"1\" class=\"dataframe\">\n  <thead>\n    <tr style=\"text-align: right;\">\n      <th></th>\n      <th>country</th>\n      <th>last_update</th>\n      <th>cases</th>\n      <th>deaths</th>\n      <th>recovered</th>\n    </tr>\n  </thead>\n  <tbody>\n    <tr>\n      <th>0</th>\n      <td>US</td>\n      <td>2020-08-16T23:27:50</td>\n      <td>5401167</td>\n      <td>170019</td>\n      <td>1833067</td>\n    </tr>\n    <tr>\n      <th>1</th>\n      <td>BR</td>\n      <td>2020-08-16T23:27:50</td>\n      <td>3340197</td>\n      <td>107852</td>\n      <td>2655017</td>\n    </tr>\n    <tr>\n      <th>2</th>\n      <td>IN</td>\n      <td>2020-08-16T23:27:50</td>\n      <td>2589682</td>\n      <td>49980</td>\n      <td>1862258</td>\n    </tr>\n    <tr>\n      <th>3</th>\n      <td>RU</td>\n      <td>2020-08-16T23:27:50</td>\n      <td>920719</td>\n      <td>15653</td>\n      <td>731444</td>\n    </tr>\n    <tr>\n      <th>4</th>\n      <td>ZA</td>\n      <td>2020-08-16T23:27:50</td>\n      <td>587345</td>\n      <td>11839</td>\n      <td>472377</td>\n    </tr>\n  </tbody>\n</table>\n</div>"
     },
     "metadata": {},
     "execution_count": 5
    }
   ],
   "source": [
    "df_covid_worldwide.head()"
   ]
  },
  {
   "cell_type": "code",
   "execution_count": null,
   "metadata": {},
   "outputs": [],
   "source": []
  }
 ]
}