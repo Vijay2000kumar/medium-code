{
 "metadata": {
  "language_info": {
   "codemirror_mode": {
    "name": "ipython",
    "version": 3
   },
   "file_extension": ".py",
   "mimetype": "text/x-python",
   "name": "python",
   "nbconvert_exporter": "python",
   "pygments_lexer": "ipython3",
   "version": "3.7.5-final"
  },
  "orig_nbformat": 2,
  "kernelspec": {
   "name": "Python 3.7.5 64-bit",
   "display_name": "Python 3.7.5 64-bit",
   "metadata": {
    "interpreter": {
     "hash": "aee8b7b246df8f9039afb4144a1f6fd8d2ca17a180786b69acc140d282b71a49"
    }
   }
  }
 },
 "nbformat": 4,
 "nbformat_minor": 2,
 "cells": [
  {
   "cell_type": "code",
   "execution_count": 2,
   "metadata": {},
   "outputs": [],
   "source": [
    "import json\n",
    "import numpy as np\n",
    "import pandas as pd\n",
    "import requests\n",
    "import matplotlib.pyplot as plt\n",
    "import datetime"
   ]
  },
  {
   "cell_type": "code",
   "execution_count": 4,
   "metadata": {},
   "outputs": [],
   "source": [
    "def get_json(api_url):\n",
    "\tresponse = requests.get(api_url)\n",
    "\tif response.status_code == 200:\n",
    "\t\treturn json.loads(response.content.decode('utf-8'))\n",
    "\telse:\n",
    "\t\treturn None\n",
    "    "
   ]
  },
  {
   "cell_type": "code",
   "execution_count": 5,
   "metadata": {},
   "outputs": [],
   "source": [
    "record_date = '2020-08-17'\n",
    "covid_url = 'https://covid19-api.org/api/status?date='+record_date\n",
    "df_covid_worldwide = pd.io.json.json_normalize(get_json(covid_url))"
   ]
  },
  {
   "cell_type": "code",
   "execution_count": 5,
   "metadata": {},
   "outputs": [
    {
     "output_type": "execute_result",
     "data": {
      "text/plain": [
       "  country          last_update    cases  deaths  recovered\n",
       "0      US  2020-08-16T23:27:50  5401167  170019    1833067\n",
       "1      BR  2020-08-16T23:27:50  3340197  107852    2655017\n",
       "2      IN  2020-08-16T23:27:50  2589682   49980    1862258\n",
       "3      RU  2020-08-16T23:27:50   920719   15653     731444\n",
       "4      ZA  2020-08-16T23:27:50   587345   11839     472377"
      ],
      "text/html": "<div>\n<style scoped>\n    .dataframe tbody tr th:only-of-type {\n        vertical-align: middle;\n    }\n\n    .dataframe tbody tr th {\n        vertical-align: top;\n    }\n\n    .dataframe thead th {\n        text-align: right;\n    }\n</style>\n<table border=\"1\" class=\"dataframe\">\n  <thead>\n    <tr style=\"text-align: right;\">\n      <th></th>\n      <th>country</th>\n      <th>last_update</th>\n      <th>cases</th>\n      <th>deaths</th>\n      <th>recovered</th>\n    </tr>\n  </thead>\n  <tbody>\n    <tr>\n      <th>0</th>\n      <td>US</td>\n      <td>2020-08-16T23:27:50</td>\n      <td>5401167</td>\n      <td>170019</td>\n      <td>1833067</td>\n    </tr>\n    <tr>\n      <th>1</th>\n      <td>BR</td>\n      <td>2020-08-16T23:27:50</td>\n      <td>3340197</td>\n      <td>107852</td>\n      <td>2655017</td>\n    </tr>\n    <tr>\n      <th>2</th>\n      <td>IN</td>\n      <td>2020-08-16T23:27:50</td>\n      <td>2589682</td>\n      <td>49980</td>\n      <td>1862258</td>\n    </tr>\n    <tr>\n      <th>3</th>\n      <td>RU</td>\n      <td>2020-08-16T23:27:50</td>\n      <td>920719</td>\n      <td>15653</td>\n      <td>731444</td>\n    </tr>\n    <tr>\n      <th>4</th>\n      <td>ZA</td>\n      <td>2020-08-16T23:27:50</td>\n      <td>587345</td>\n      <td>11839</td>\n      <td>472377</td>\n    </tr>\n  </tbody>\n</table>\n</div>"
     },
     "metadata": {},
     "execution_count": 5
    }
   ],
   "source": [
    "df_covid_worldwide.head()"
   ]
  },
  {
   "cell_type": "code",
   "execution_count": 6,
   "metadata": {},
   "outputs": [],
   "source": [
    "df_covid_worldwide['last_update'] = pd.to_datetime(df_covid_worldwide['last_update'], format='%Y-%m-%d %H:%M:%S')\n",
    "df_covid_worldwide['last_update'] = df_covid_worldwide['last_update'].apply(lambda x: x.date())"
   ]
  },
  {
   "cell_type": "code",
   "execution_count": 7,
   "metadata": {},
   "outputs": [
    {
     "output_type": "stream",
     "name": "stdout",
     "text": [
      "          name country\n0  Afghanistan      AF\n1      Albania      AL\n2      Algeria      DZ\n3      Andorra      AD\n4       Angola      AO\n"
     ]
    }
   ],
   "source": [
    "countries_url = 'https://covid19-api.org/api/countries'\n",
    "df_countries = pd.io.json.json_normalize(get_json(countries_url))\n",
    "df_countries = df_countries.rename(columns={'alpha2': 'country'})[['name','country']]\n",
    "\n",
    "print(df_countries.head())"
   ]
  },
  {
   "cell_type": "code",
   "execution_count": 8,
   "metadata": {},
   "outputs": [
    {
     "output_type": "execute_result",
     "data": {
      "text/plain": [
       "    country last_update    cases  deaths  recovered                      name\n",
       "0        US  2020-08-16  5401167  170019    1833067  United States of America\n",
       "1        BR  2020-08-16  3340197  107852    2655017                    Brazil\n",
       "2        IN  2020-08-16  2589682   49980    1862258                     India\n",
       "3        RU  2020-08-16   920719   15653     731444        Russian Federation\n",
       "4        ZA  2020-08-16   587345   11839     472377              South Africa\n",
       "..      ...         ...      ...     ...        ...                       ...\n",
       "201      GG  2020-03-17        0       0          0                  Guernsey\n",
       "202      GL  2020-03-19        0       0          0                 Greenland\n",
       "203      GU  2020-03-18        0       0          0                      Guam\n",
       "204      JE  2020-03-17        0       0          0                    Jersey\n",
       "205      PR  2020-03-17        0       0          0               Puerto Rico\n",
       "\n",
       "[206 rows x 6 columns]"
      ],
      "text/html": "<div>\n<style scoped>\n    .dataframe tbody tr th:only-of-type {\n        vertical-align: middle;\n    }\n\n    .dataframe tbody tr th {\n        vertical-align: top;\n    }\n\n    .dataframe thead th {\n        text-align: right;\n    }\n</style>\n<table border=\"1\" class=\"dataframe\">\n  <thead>\n    <tr style=\"text-align: right;\">\n      <th></th>\n      <th>country</th>\n      <th>last_update</th>\n      <th>cases</th>\n      <th>deaths</th>\n      <th>recovered</th>\n      <th>name</th>\n    </tr>\n  </thead>\n  <tbody>\n    <tr>\n      <th>0</th>\n      <td>US</td>\n      <td>2020-08-16</td>\n      <td>5401167</td>\n      <td>170019</td>\n      <td>1833067</td>\n      <td>United States of America</td>\n    </tr>\n    <tr>\n      <th>1</th>\n      <td>BR</td>\n      <td>2020-08-16</td>\n      <td>3340197</td>\n      <td>107852</td>\n      <td>2655017</td>\n      <td>Brazil</td>\n    </tr>\n    <tr>\n      <th>2</th>\n      <td>IN</td>\n      <td>2020-08-16</td>\n      <td>2589682</td>\n      <td>49980</td>\n      <td>1862258</td>\n      <td>India</td>\n    </tr>\n    <tr>\n      <th>3</th>\n      <td>RU</td>\n      <td>2020-08-16</td>\n      <td>920719</td>\n      <td>15653</td>\n      <td>731444</td>\n      <td>Russian Federation</td>\n    </tr>\n    <tr>\n      <th>4</th>\n      <td>ZA</td>\n      <td>2020-08-16</td>\n      <td>587345</td>\n      <td>11839</td>\n      <td>472377</td>\n      <td>South Africa</td>\n    </tr>\n    <tr>\n      <th>...</th>\n      <td>...</td>\n      <td>...</td>\n      <td>...</td>\n      <td>...</td>\n      <td>...</td>\n      <td>...</td>\n    </tr>\n    <tr>\n      <th>201</th>\n      <td>GG</td>\n      <td>2020-03-17</td>\n      <td>0</td>\n      <td>0</td>\n      <td>0</td>\n      <td>Guernsey</td>\n    </tr>\n    <tr>\n      <th>202</th>\n      <td>GL</td>\n      <td>2020-03-19</td>\n      <td>0</td>\n      <td>0</td>\n      <td>0</td>\n      <td>Greenland</td>\n    </tr>\n    <tr>\n      <th>203</th>\n      <td>GU</td>\n      <td>2020-03-18</td>\n      <td>0</td>\n      <td>0</td>\n      <td>0</td>\n      <td>Guam</td>\n    </tr>\n    <tr>\n      <th>204</th>\n      <td>JE</td>\n      <td>2020-03-17</td>\n      <td>0</td>\n      <td>0</td>\n      <td>0</td>\n      <td>Jersey</td>\n    </tr>\n    <tr>\n      <th>205</th>\n      <td>PR</td>\n      <td>2020-03-17</td>\n      <td>0</td>\n      <td>0</td>\n      <td>0</td>\n      <td>Puerto Rico</td>\n    </tr>\n  </tbody>\n</table>\n<p>206 rows × 6 columns</p>\n</div>"
     },
     "metadata": {},
     "execution_count": 8
    }
   ],
   "source": [
    "df_covid_denormalized = pd.merge(df_covid_worldwide, df_countries, on='country')\n",
    "df_covid_denormalized "
   ]
  },
  {
   "cell_type": "code",
   "execution_count": 9,
   "metadata": {},
   "outputs": [
    {
     "output_type": "execute_result",
     "data": {
      "text/plain": [
       "    country last_update    cases  deaths  recovered                      name  \\\n",
       "0        US  2020-08-16  5401167  170019    1833067  United States of America   \n",
       "1        BR  2020-08-16  3340197  107852    2655017                    Brazil   \n",
       "2        IN  2020-08-16  2589682   49980    1862258                     India   \n",
       "3        RU  2020-08-16   920719   15653     731444        Russian Federation   \n",
       "4        ZA  2020-08-16   587345   11839     472377              South Africa   \n",
       "..      ...         ...      ...     ...        ...                       ...   \n",
       "201      GG  2020-03-17        0       0          0                  Guernsey   \n",
       "202      GL  2020-03-19        0       0          0                 Greenland   \n",
       "203      GU  2020-03-18        0       0          0                      Guam   \n",
       "204      JE  2020-03-17        0       0          0                    Jersey   \n",
       "205      PR  2020-03-17        0       0          0               Puerto Rico   \n",
       "\n",
       "     fatality_ratio  \n",
       "0          0.031478  \n",
       "1          0.032289  \n",
       "2          0.019300  \n",
       "3          0.017001  \n",
       "4          0.020157  \n",
       "..              ...  \n",
       "201             NaN  \n",
       "202             NaN  \n",
       "203             NaN  \n",
       "204             NaN  \n",
       "205             NaN  \n",
       "\n",
       "[206 rows x 7 columns]"
      ],
      "text/html": "<div>\n<style scoped>\n    .dataframe tbody tr th:only-of-type {\n        vertical-align: middle;\n    }\n\n    .dataframe tbody tr th {\n        vertical-align: top;\n    }\n\n    .dataframe thead th {\n        text-align: right;\n    }\n</style>\n<table border=\"1\" class=\"dataframe\">\n  <thead>\n    <tr style=\"text-align: right;\">\n      <th></th>\n      <th>country</th>\n      <th>last_update</th>\n      <th>cases</th>\n      <th>deaths</th>\n      <th>recovered</th>\n      <th>name</th>\n      <th>fatality_ratio</th>\n    </tr>\n  </thead>\n  <tbody>\n    <tr>\n      <th>0</th>\n      <td>US</td>\n      <td>2020-08-16</td>\n      <td>5401167</td>\n      <td>170019</td>\n      <td>1833067</td>\n      <td>United States of America</td>\n      <td>0.031478</td>\n    </tr>\n    <tr>\n      <th>1</th>\n      <td>BR</td>\n      <td>2020-08-16</td>\n      <td>3340197</td>\n      <td>107852</td>\n      <td>2655017</td>\n      <td>Brazil</td>\n      <td>0.032289</td>\n    </tr>\n    <tr>\n      <th>2</th>\n      <td>IN</td>\n      <td>2020-08-16</td>\n      <td>2589682</td>\n      <td>49980</td>\n      <td>1862258</td>\n      <td>India</td>\n      <td>0.019300</td>\n    </tr>\n    <tr>\n      <th>3</th>\n      <td>RU</td>\n      <td>2020-08-16</td>\n      <td>920719</td>\n      <td>15653</td>\n      <td>731444</td>\n      <td>Russian Federation</td>\n      <td>0.017001</td>\n    </tr>\n    <tr>\n      <th>4</th>\n      <td>ZA</td>\n      <td>2020-08-16</td>\n      <td>587345</td>\n      <td>11839</td>\n      <td>472377</td>\n      <td>South Africa</td>\n      <td>0.020157</td>\n    </tr>\n    <tr>\n      <th>...</th>\n      <td>...</td>\n      <td>...</td>\n      <td>...</td>\n      <td>...</td>\n      <td>...</td>\n      <td>...</td>\n      <td>...</td>\n    </tr>\n    <tr>\n      <th>201</th>\n      <td>GG</td>\n      <td>2020-03-17</td>\n      <td>0</td>\n      <td>0</td>\n      <td>0</td>\n      <td>Guernsey</td>\n      <td>NaN</td>\n    </tr>\n    <tr>\n      <th>202</th>\n      <td>GL</td>\n      <td>2020-03-19</td>\n      <td>0</td>\n      <td>0</td>\n      <td>0</td>\n      <td>Greenland</td>\n      <td>NaN</td>\n    </tr>\n    <tr>\n      <th>203</th>\n      <td>GU</td>\n      <td>2020-03-18</td>\n      <td>0</td>\n      <td>0</td>\n      <td>0</td>\n      <td>Guam</td>\n      <td>NaN</td>\n    </tr>\n    <tr>\n      <th>204</th>\n      <td>JE</td>\n      <td>2020-03-17</td>\n      <td>0</td>\n      <td>0</td>\n      <td>0</td>\n      <td>Jersey</td>\n      <td>NaN</td>\n    </tr>\n    <tr>\n      <th>205</th>\n      <td>PR</td>\n      <td>2020-03-17</td>\n      <td>0</td>\n      <td>0</td>\n      <td>0</td>\n      <td>Puerto Rico</td>\n      <td>NaN</td>\n    </tr>\n  </tbody>\n</table>\n<p>206 rows × 7 columns</p>\n</div>"
     },
     "metadata": {},
     "execution_count": 9
    }
   ],
   "source": [
    "#fatality ratio\n",
    "df_covid_denormalized['fatality_ratio'] = df_covid_denormalized['deaths']/df_covid_denormalized['cases']\n",
    "df_covid_denormalized"
   ]
  },
  {
   "cell_type": "code",
   "execution_count": null,
   "metadata": {},
   "outputs": [],
   "source": []
  }
 ]
}